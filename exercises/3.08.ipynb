{
 "cells": [
  {
   "cell_type": "markdown",
   "metadata": {},
   "source": [
    "First, I'm pulling in some freely available text. I've chosen to process Chapter 1 from Jane Austen's \"Pride and Prejudice\". I would normally place the source text into a text file, but for the sake of sharing this assignment, and for exploring how long pieces of text behave in a notebook, I've pasted it directly into a variable below, using the multi-line delimiters `'''`"
   ]
  },
  {
   "cell_type": "code",
   "execution_count": 34,
   "metadata": {},
   "outputs": [],
   "source": [
    "# Source: https://gutenberg.org/files/1342/1342-h/1342-h.htm#link2HCH0001\n",
    "\n",
    "text = '''\n",
    "It is a truth universally acknowledged, that a single man in possession of a good fortune, must be in want of a wife.\n",
    "However little known the feelings or views of such a man may be on his first entering a neighbourhood, this truth is so well fixed in the minds of the surrounding families, that he is considered the rightful property of some one or other of their daughters.\n",
    "“My dear Mr. Bennet,” said his lady to him one day, “have you heard that Netherfield Park is let at last?”\n",
    "Mr. Bennet replied that he had not.\n",
    "“But it is,” returned she; “for Mrs. Long has just been here, and she told me all about it.”\n",
    "Mr. Bennet made no answer.\n",
    "“Do you not want to know who has taken it?” cried his wife impatiently.\n",
    "“You want to tell me, and I have no objection to hearing it.”\n",
    "This was invitation enough.\n",
    "“Why, my dear, you must know, Mrs. Long says that Netherfield is taken by a young man of large fortune from the north of England; that he came down on Monday in a chaise and four to see the place, and was so much delighted with it, that he agreed with Mr. Morris immediately; that he is to take possession before Michaelmas, and some of his servants are to be in the house by the end of next week.”\n",
    "“What is his name?”\n",
    "“Bingley.”\n",
    "“Is he married or single?”\n",
    "“Oh! Single, my dear, to be sure! A single man of large fortune; four or five thousand a year. What a fine thing for our girls!”\n",
    "“How so? How can it affect them?”\n",
    "“My dear Mr. Bennet,” replied his wife, “how can you be so tiresome! You must know that I am thinking of his marrying one of them.”\n",
    "“Is that his design in settling here?”\n",
    "“Design! Nonsense, how can you talk so! But it is very likely that he may fall in love with one of them, and therefore you must visit him as soon as he comes.”\n",
    "“I see no occasion for that. You and the girls may go, or you may send them by themselves, which perhaps will be still better, for as you are as handsome as any of them, Mr. Bingley may like you the best of the party.”\n",
    "“My dear, you flatter me. I certainly have had my share of beauty, but I do not pretend to be anything extraordinary now. When a woman has five grown-up daughters, she ought to give over thinking of her own beauty.”\n",
    "“In such cases, a woman has not often much beauty to think of.”\n",
    "“But, my dear, you must indeed go and see Mr. Bingley when he comes into the neighbourhood.”\n",
    "“It is more than I engage for, I assure you.”\n",
    "“But consider your daughters. Only think what an establishment it would be for one of them. Sir William and Lady Lucas are determined to go, merely on that account, for in general, you know, they visit no newcomers. Indeed you must go, for it will be impossible for us to visit him if you do not.”\n",
    "“You are over-scrupulous, surely. I dare say Mr. Bingley will be very glad to see you; and I will send a few lines by you to assure him of my hearty consent to his marrying whichever he chooses of the girls; though I must throw in a good word for my little Lizzy.”\n",
    "“I desire you will do no such thing. Lizzy is not a bit better than the others; and I am sure she is not half so handsome as Jane, nor half so good-humoured as Lydia. But you are always giving her the preference.”\n",
    "“They have none of them much to recommend them,” replied he; “they are all silly and ignorant like other girls; but Lizzy has something more of quickness than her sisters.”\n",
    "“Mr. Bennet, how can you abuse your own children in such a way? You take delight in vexing me. You have no compassion for my poor nerves.”\n",
    "“You mistake me, my dear. I have a high respect for your nerves. They are my old friends. I have heard you mention them with consideration these last twenty years at least.”\n",
    "“Ah, you do not know what I suffer.”\n",
    "“But I hope you will get over it, and live to see many young men of four thousand a year come into the neighbourhood.”\n",
    "“It will be no use to us, if twenty such should come, since you will not visit them.”\n",
    "“Depend upon it, my dear, that when there are twenty, I will visit them all.”\n",
    "Mr. Bennet was so odd a mixture of quick parts, sarcastic humour, reserve, and caprice, that the experience of three-and-twenty years had been insufficient to make his wife understand his character. Her mind was less difficult to develop. She was a woman of mean understanding, little information, and uncertain temper. When she was discontented, she fancied herself nervous. The business of her life was to get her daughters married; its solace was visiting and news.\n",
    "'''"
   ]
  },
  {
   "cell_type": "markdown",
   "metadata": {},
   "source": [
    "We can tokenize this text using the `nltk.tokoenize` module. We also make use of the `isalnum` method to get rid of all punctuation and whitespace characters.\n",
    "\n",
    "In order to get useful data, we are filtering out filler words (\"a\", \"in\", \"you\", etc.) by looking only for words that are at least 5 characters long. This will especially expose any names and also get rid of most verbs. Words also must appear at least twice."
   ]
  },
  {
   "cell_type": "code",
   "execution_count": 57,
   "metadata": {},
   "outputs": [
    {
     "data": {
      "text/plain": [
       "[('single', 3),\n",
       " ('fortune', 3),\n",
       " ('little', 3),\n",
       " ('neighbourhood', 3),\n",
       " ('other', 3),\n",
       " ('daughters', 4),\n",
       " ('Bennet', 6),\n",
       " ('Bennet', 6),\n",
       " ('replied', 3),\n",
       " ('Bennet', 6),\n",
       " ('fortune', 3),\n",
       " ('single', 3),\n",
       " ('single', 3),\n",
       " ('fortune', 3),\n",
       " ('thing', 4),\n",
       " ('girls', 4),\n",
       " ('Bennet', 6),\n",
       " ('replied', 3),\n",
       " ('visit', 6),\n",
       " ('girls', 4),\n",
       " ('Bingley', 4),\n",
       " ('beauty', 3),\n",
       " ('woman', 3),\n",
       " ('daughters', 4),\n",
       " ('woman', 3),\n",
       " ('beauty', 3),\n",
       " ('think', 4),\n",
       " ('Bingley', 4),\n",
       " ('consider', 3),\n",
       " ('daughters', 4),\n",
       " ('think', 4),\n",
       " ('visit', 6),\n",
       " ('visit', 6),\n",
       " ('Bingley', 4),\n",
       " ('girls', 4),\n",
       " ('little', 3),\n",
       " ('thing', 4),\n",
       " ('Lizzy', 3),\n",
       " ('replied', 3),\n",
       " ('other', 3),\n",
       " ('girls', 4),\n",
       " ('Lizzy', 3),\n",
       " ('Bennet', 6),\n",
       " ('twenty', 4),\n",
       " ('twenty', 4),\n",
       " ('visit', 6),\n",
       " ('twenty', 4),\n",
       " ('visit', 6),\n",
       " ('Bennet', 6),\n",
       " ('woman', 3),\n",
       " ('little', 3),\n",
       " ('daughters', 4)]"
      ]
     },
     "execution_count": 57,
     "metadata": {},
     "output_type": "execute_result"
    }
   ],
   "source": [
    "from nltk.tokenize import word_tokenize\n",
    "\n",
    "# Generate a list of tuples containing tokenized, alphanumeric words and their respective count\n",
    "# Get only words that occur more than twice and are at least 5 characters long\n",
    "freq_list = [(word,text.count(word)) for word in word_tokenize(text) if word.isalnum() and text.count(word) > 2 and len(word)>4]\n",
    "freq_list"
   ]
  },
  {
   "cell_type": "markdown",
   "metadata": {},
   "source": [
    "As shown, this provides a long list of tuples with the total count for each word. As the words are repeated in this list, we need to convert it to a set in order to have each word only appear once."
   ]
  },
  {
   "cell_type": "code",
   "execution_count": 56,
   "metadata": {},
   "outputs": [
    {
     "data": {
      "text/plain": [
       "{'Bennet': 6,\n",
       " 'visit': 6,\n",
       " 'daughters': 4,\n",
       " 'thing': 4,\n",
       " 'girls': 4,\n",
       " 'Bingley': 4,\n",
       " 'think': 4,\n",
       " 'twenty': 4,\n",
       " 'single': 3,\n",
       " 'fortune': 3,\n",
       " 'little': 3,\n",
       " 'neighbourhood': 3,\n",
       " 'other': 3,\n",
       " 'replied': 3,\n",
       " 'beauty': 3,\n",
       " 'woman': 3,\n",
       " 'consider': 3,\n",
       " 'Lizzy': 3}"
      ]
     },
     "execution_count": 56,
     "metadata": {},
     "output_type": "execute_result"
    }
   ],
   "source": [
    "# Use a dict comprehension to convert the list to a dict and sort it by word frequency in descending order\n",
    "{key: value for key, value in sorted(dict(freq_list).items(), key=lambda item: item[1], reverse=True)}"
   ]
  }
 ],
 "metadata": {
  "kernelspec": {
   "display_name": "Python 3",
   "language": "python",
   "name": "python3"
  },
  "language_info": {
   "codemirror_mode": {
    "name": "ipython",
    "version": 3
   },
   "file_extension": ".py",
   "mimetype": "text/x-python",
   "name": "python",
   "nbconvert_exporter": "python",
   "pygments_lexer": "ipython3",
   "version": "3.9.0"
  }
 },
 "nbformat": 4,
 "nbformat_minor": 4
}
