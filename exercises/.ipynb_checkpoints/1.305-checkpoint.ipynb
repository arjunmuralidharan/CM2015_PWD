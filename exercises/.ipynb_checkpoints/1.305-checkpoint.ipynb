{
 "cells": [
  {
   "cell_type": "markdown",
   "metadata": {},
   "source": [
    "For the first activity, we would like you to write a program that calculates the size of the world's population at the start of 2022. Let's start with some givens.\n",
    "\n",
    "The population at the start of 2018 was 7.6 billion. The growth rate at the time was 1.09% per year.\n",
    "\n",
    "* Assume a fixed population growth rate over the time period.\n",
    "* Put the starting population and growth rate into variables.\n",
    "* Carry out some mathematical operations to compute the population at the start of 2022.\n",
    "* Print out the result.\n",
    "\n",
    "__Challenge exercise__: can you convert your code into a function that takes as its inputs the population growth rate, the population in 2018 and the year in which we would like to know the population, for example:\n",
    "def get_population(growth_rate, pop_in_2018, target_year)\n",
    "\n",
    "It should return the population in target_year."
   ]
  },
  {
   "cell_type": "code",
   "execution_count": 12,
   "metadata": {},
   "outputs": [
    {
     "name": "stdout",
     "output_type": "stream",
     "text": [
      "7936817212.1618\n"
     ]
    }
   ],
   "source": [
    "def population_growth(growth_rate, pop_in_2018, target_year):\n",
    "    years = target_year-2018\n",
    "    return pop_in_2018 * (1+growth_rate)**years\n",
    "\n",
    "print(population_growth(0.0109, 7.6e9, 2022))"
   ]
  }
 ],
 "metadata": {
  "kernelspec": {
   "display_name": "Python 3",
   "language": "python",
   "name": "python3"
  },
  "language_info": {
   "codemirror_mode": {
    "name": "ipython",
    "version": 3
   },
   "file_extension": ".py",
   "mimetype": "text/x-python",
   "name": "python",
   "nbconvert_exporter": "python",
   "pygments_lexer": "ipython3",
   "version": "3.8.3"
  }
 },
 "nbformat": 4,
 "nbformat_minor": 4
}
