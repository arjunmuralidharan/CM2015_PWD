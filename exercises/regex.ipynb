{
 "cells": [
  {
   "cell_type": "markdown",
   "metadata": {},
   "source": [
    "# Python regular expressions\n",
    "This notebook offers a few quick examples of regular expression operations you can do with Python's built-in `re` library. More examples and information is available in the [re documentation](https://docs.python.org/3.6/library/re.html).\n",
    "\n",
    "**Tip:** Try changing the search strings to see how it affects the output."
   ]
  },
  {
   "cell_type": "code",
   "execution_count": 3,
   "metadata": {},
   "outputs": [],
   "source": [
    "# import the regular expressions library\n",
    "import re "
   ]
  },
  {
   "cell_type": "code",
   "execution_count": 6,
   "metadata": {},
   "outputs": [
    {
     "data": {
      "text/plain": [
       "<re.Match object; span=(0, 1), match='f'>"
      ]
     },
     "execution_count": 6,
     "metadata": {},
     "output_type": "execute_result"
    }
   ],
   "source": [
    "\"\"\" Example 1: Match a single character with match()\n",
    "    match produces a Match object.\n",
    "\"\"\"\n",
    "# match single character 'f' in the string 'foo'\n",
    "re.match(r'f', \"foo\")"
   ]
  },
  {
   "cell_type": "code",
   "execution_count": 3,
   "metadata": {},
   "outputs": [
    {
     "data": {
      "text/plain": [
       "'f'"
      ]
     },
     "execution_count": 3,
     "metadata": {},
     "output_type": "execute_result"
    }
   ],
   "source": [
    "\"\"\" Example 2: Get contents of Match object with group()\n",
    "    to see what a Match object contains, call group() on it.\n",
    "    notice the use of dot notation here to build a `pipeline' of operations\n",
    "\"\"\"\n",
    "# call group operator to return the string that matched the pattern\n",
    "re.match(r'f', \"foo\").group() "
   ]
  },
  {
   "cell_type": "code",
   "execution_count": 7,
   "metadata": {},
   "outputs": [],
   "source": [
    "\"\"\" here, no match is returned because match searches from beginning of string\n",
    "    (only `f', `fo' and `foo' will produce a match)\n",
    "\"\"\"\n",
    "re.match(r'o', \"foo\") "
   ]
  },
  {
   "cell_type": "code",
   "execution_count": 8,
   "metadata": {},
   "outputs": [
    {
     "data": {
      "text/plain": [
       "'o'"
      ]
     },
     "execution_count": 8,
     "metadata": {},
     "output_type": "execute_result"
    }
   ],
   "source": [
    "\"\"\" Example 3: Searching whole strings with search()\n",
    "    search will search anywhere in the text for a matching pattern\n",
    "\"\"\"\n",
    "re.search(r'o', \"foo\").group() "
   ]
  },
  {
   "cell_type": "code",
   "execution_count": 6,
   "metadata": {},
   "outputs": [
    {
     "data": {
      "text/plain": [
       "'fo'"
      ]
     },
     "execution_count": 6,
     "metadata": {},
     "output_type": "execute_result"
    }
   ],
   "source": [
    "\"\"\" you can also concatenate characters in the search pattern...\n",
    "\"\"\"\n",
    "re.search(r'fo', \"foo\").group()"
   ]
  },
  {
   "cell_type": "code",
   "execution_count": 7,
   "metadata": {},
   "outputs": [
    {
     "data": {
      "text/plain": [
       "'o'"
      ]
     },
     "execution_count": 7,
     "metadata": {},
     "output_type": "execute_result"
    }
   ],
   "source": [
    "\"\"\" Example 4: OR operator |\n",
    "    use the 'or' operator (vertical pipe) to search for 'a' or 'o'\n",
    "    search starts from the left, hence left-most match is returned\n",
    "\"\"\"\n",
    "re.search(r'a|o', \"foa\").group() "
   ]
  },
  {
   "cell_type": "code",
   "execution_count": 25,
   "metadata": {},
   "outputs": [
    {
     "data": {
      "text/plain": [
       "'foo'"
      ]
     },
     "execution_count": 25,
     "metadata": {},
     "output_type": "execute_result"
    }
   ],
   "source": [
    "\"\"\" Example 5: Multiple match operator\n",
    "    use the multiple operator (*) to search for largest number of a character \n",
    "\"\"\"\n",
    "re.search(r'fo*', \"foo\").group() \n"
   ]
  },
  {
   "cell_type": "code",
   "execution_count": 27,
   "metadata": {},
   "outputs": [
    {
     "data": {
      "text/plain": [
       "'Thequickbrownfoxjumpsoverthelazydog'"
      ]
     },
     "execution_count": 27,
     "metadata": {},
     "output_type": "execute_result"
    }
   ],
   "source": [
    "\"\"\" Example 6: Substitution with sub()\n",
    "    use sub() method to substitute non letter/word characters with an empty string\n",
    "\"\"\"\n",
    "re.sub(r'\\W',\"\",\"The quick brown fox jumps over the lazy dog\")\n",
    " "
   ]
  },
  {
   "cell_type": "code",
   "execution_count": 29,
   "metadata": {},
   "outputs": [
    {
     "data": {
      "text/plain": [
       "'FOO'"
      ]
     },
     "execution_count": 29,
     "metadata": {},
     "output_type": "execute_result"
    }
   ],
   "source": [
    "\"\"\" Example 7: Case insensitive search\n",
    "    you can include (?i) in the regex sequence to ignore case\n",
    "    (the default search behaviour is case-sensitive)\n",
    "\"\"\"\n",
    "re.search(r'(?i)fo*', \"FOO\").group() "
   ]
  }
 ],
 "metadata": {
  "kernelspec": {
   "display_name": "Python 3",
   "language": "python",
   "name": "python3"
  },
  "language_info": {
   "codemirror_mode": {
    "name": "ipython",
    "version": 3
   },
   "file_extension": ".py",
   "mimetype": "text/x-python",
   "name": "python",
   "nbconvert_exporter": "python",
   "pygments_lexer": "ipython3",
   "version": "3.8.3"
  }
 },
 "nbformat": 4,
 "nbformat_minor": 4
}
