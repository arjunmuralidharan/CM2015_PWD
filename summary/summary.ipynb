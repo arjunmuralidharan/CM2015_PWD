{
 "cells": [
  {
   "cell_type": "markdown",
   "metadata": {},
   "source": [
    "# Contents\n",
    "\n",
    "[1. Setting up your programming environment](#settingup)\n",
    "\n",
    "[2. Variables, control flowand functions](#variables)\n",
    "\n",
    "[3. Data structures](#datastructures)"
   ]
  },
  {
   "cell_type": "markdown",
   "metadata": {},
   "source": [
    "# 1. Setting up your programming environment <a class=\"anchor\" id=\"settingup\"/>\n",
    "\n",
    "## 1.1 Jupyter Setup\n",
    "\n",
    "Install Jupyter Lab using the following command.\n",
    "                \n",
    "    $ pip3 install jupyterlab\n",
    "Run Jupyter Lab using the following command.\n",
    "    \n",
    "    $ jupyter lab\n",
    "The interface allows you to create individual .py files, or entire notebooks that contain cells. Each cell is a small set of commands to execute and view the output of inline. A cell can contain code or markdown."
   ]
  },
  {
   "cell_type": "markdown",
   "metadata": {},
   "source": [
    "## 1.2 Python Basics\n",
    "\n",
    "Python relies on whitespace indentation, and comments are given using the # sign. Code blocks are initiated with a colon, after which the contents of the block are indented one level.\n"
   ]
  },
  {
   "cell_type": "code",
   "execution_count": 23,
   "metadata": {
    "collapsed": true,
    "jupyter": {
     "outputs_hidden": true
    }
   },
   "outputs": [
    {
     "name": "stdout",
     "output_type": "stream",
     "text": [
      "[1, 2]\n",
      "[6]\n"
     ]
    }
   ],
   "source": [
    "# This is a simple Python script\n",
    "\n",
    "array = [1,2,3,4,5,6]\n",
    "pivot = 3\n",
    "greater = []\n",
    "less = []\n",
    "\n",
    "for x in array:\n",
    "    if x < pivot:\n",
    "        less.append(x)\n",
    "else:\n",
    "    greater.append(x)\n",
    "    \n",
    "    \n",
    "print(less)\n",
    "print(greater)"
   ]
  },
  {
   "cell_type": "markdown",
   "metadata": {},
   "source": [
    "Everything in Python is an **object**, making methods available on e.g. variables, strings, data struc- tured, modules or even functions. In a notebook, pressing “Tab” will expose the available methods.\n",
    "Python assigns variable by reference, i.e. it uses binding. This means that when a variable $ a $ is assigned to another variable $ b $, changes to a will also reflect in b.\n",
    "Python is strongly typed but will make implicit type conversions when obvious. To find the type of a variable, use the following function."
   ]
  },
  {
   "cell_type": "code",
   "execution_count": 19,
   "metadata": {
    "collapsed": true,
    "jupyter": {
     "outputs_hidden": true
    }
   },
   "outputs": [
    {
     "name": "stdout",
     "output_type": "stream",
     "text": [
      "False\n",
      "True\n",
      "<class 'float'>\n"
     ]
    }
   ],
   "source": [
    "a = 15.4\n",
    "\n",
    "print(isinstance(a, int))\n",
    "\n",
    "print(isinstance(a, (int, float)))\n",
    "\n",
    "print(type(a))"
   ]
  },
  {
   "cell_type": "markdown",
   "metadata": {},
   "source": [
    "This returns true if the provided variable is of the given type. In the second example, a tuple is used, where the function checks if the variable is of any type provided in the tuple.\n",
    "\n",
    "**Duck typing** refers to checking if an object has certain behaviours, regardless of its actual type. You can check if an object is iterable as follows."
   ]
  },
  {
   "cell_type": "code",
   "execution_count": 24,
   "metadata": {
    "collapsed": true,
    "jupyter": {
     "outputs_hidden": true
    }
   },
   "outputs": [
    {
     "data": {
      "text/plain": [
       "True"
      ]
     },
     "execution_count": 24,
     "metadata": {},
     "output_type": "execute_result"
    }
   ],
   "source": [
    "def isiterable(obj):\n",
    "    try:\n",
    "        iter(obj)\n",
    "        return True\n",
    "    except TypeError:\n",
    "        return False\n",
    "    \n",
    "isiterable('a string')"
   ]
  },
  {
   "cell_type": "markdown",
   "metadata": {},
   "source": [
    "Python can import other Python files as modules, and even use variables from those files with new names."
   ]
  },
  {
   "cell_type": "code",
   "execution_count": 5,
   "metadata": {
    "collapsed": true,
    "jupyter": {
     "outputs_hidden": true
    }
   },
   "outputs": [
    {
     "name": "stdout",
     "output_type": "stream",
     "text": [
      "<built-in function array>\n",
      "<built-in function array>\n"
     ]
    }
   ],
   "source": [
    "# Import an entire python module\n",
    "import numpy as nm\n",
    "print(array)\n",
    "\n",
    "# Import specific objects\n",
    "from numpy import array\n",
    "print(array)"
   ]
  },
  {
   "cell_type": "markdown",
   "metadata": {},
   "source": [
    "Python supports all the standard arithemtic and logical operators. One operator worth highlighting is the is operator."
   ]
  },
  {
   "cell_type": "code",
   "execution_count": 17,
   "metadata": {
    "collapsed": true,
    "jupyter": {
     "outputs_hidden": true
    }
   },
   "outputs": [
    {
     "name": "stdout",
     "output_type": "stream",
     "text": [
      "False\n",
      "True\n",
      "True\n",
      "False\n"
     ]
    }
   ],
   "source": [
    "a = [\"Hello\",\"Goodbye\"]\n",
    "b = [\"Hello\",\"Goodbye\"]\n",
    "\n",
    "# Returns true if both variables are referencing the same object\n",
    "print(a is b)\n",
    "print(a is not b)\n",
    "\n",
    "# NOTE: These are not the same as\n",
    "print(a == b)\n",
    "print(a != b)"
   ]
  },
  {
   "cell_type": "markdown",
   "metadata": {},
   "source": [
    "The standard scalar types are `int`, `float`, `str`, `bytes`, `bool`, and `None`.\n",
    "\n",
    "While strings can be written with single or double quotes, in Python we can use triple quotes for strings spanning multiple lines."
   ]
  },
  {
   "cell_type": "code",
   "execution_count": 21,
   "metadata": {
    "collapsed": true,
    "jupyter": {
     "outputs_hidden": true
    }
   },
   "outputs": [
    {
     "data": {
      "text/plain": [
       "82"
      ]
     },
     "execution_count": 21,
     "metadata": {},
     "output_type": "execute_result"
    }
   ],
   "source": [
    "  c = '''\n",
    "        This is a multi-line\n",
    "        string that has a lot\n",
    "        of text in it\n",
    "        '''\n",
    "    \n",
    "len(c)"
   ]
  },
  {
   "cell_type": "markdown",
   "metadata": {},
   "source": [
    "Python string literals are immutable, you cannot modify a string directly using assignment to an index of the string. They do however behave like lists and can be iterated on.\n",
    "\n",
    " Strings also support a Python feature called templating, where templates are inserted into a string and then filled using the ``format`` method."
   ]
  },
  {
   "cell_type": "code",
   "execution_count": 25,
   "metadata": {
    "collapsed": true,
    "jupyter": {
     "outputs_hidden": true
    }
   },
   "outputs": [
    {
     "data": {
      "text/plain": [
       "'4.56 Argentine Pesos are worth US$1'"
      ]
     },
     "execution_count": 25,
     "metadata": {},
     "output_type": "execute_result"
    }
   ],
   "source": [
    "# .2f represents a 2-decimal float, s is a string and d is an integer\n",
    "\n",
    "template = \"{0:.2f} {1:s} are worth US${2:d}\"\n",
    "\n",
    "template.format(4.5560, 'Argentine Pesos', 1)"
   ]
  },
  {
   "cell_type": "markdown",
   "metadata": {},
   "source": [
    "## Control Flow"
   ]
  },
  {
   "cell_type": "markdown",
   "metadata": {},
   "source": [
    "### Conditionals"
   ]
  },
  {
   "cell_type": "code",
   "execution_count": 4,
   "metadata": {},
   "outputs": [
    {
     "name": "stdout",
     "output_type": "stream",
     "text": [
      "Smaller\n"
     ]
    }
   ],
   "source": [
    "x = -5\n",
    "\n",
    "if x < 0:\n",
    "    print(\"Smaller\")\n",
    "elif x > 0:\n",
    "    print(\"Larger\")\n",
    "else:\n",
    "    pass\n",
    "\n",
    "# Ternary Operator that is equivalent to the above\n",
    "value = \"Smaller\" if x < 0 else \"Larger\""
   ]
  },
  {
   "cell_type": "markdown",
   "metadata": {},
   "source": [
    "The `pass` statement continues to the next statement without executing anything. It is similar to a `continue` statement in other languages. The ternary operator is a more concise syntax to express a simple conditional statement."
   ]
  },
  {
   "cell_type": "markdown",
   "metadata": {},
   "source": [
    "### Loops\n",
    "\n",
    "`for` loops always use an iterator and act like a range-based loop. `while` loops use a conditional statement and execute as long as the statement is true."
   ]
  },
  {
   "cell_type": "code",
   "execution_count": 10,
   "metadata": {
    "collapsed": true,
    "jupyter": {
     "outputs_hidden": true
    }
   },
   "outputs": [
    {
     "name": "stdout",
     "output_type": "stream",
     "text": [
      "1\n",
      "2\n",
      "3\n",
      "4\n",
      "5\n",
      "1\n",
      "2\n",
      "3\n",
      "4\n",
      "5\n"
     ]
    }
   ],
   "source": [
    "# for loop\n",
    "some_list = [1,2,3,4,5]\n",
    "for x in some_list:\n",
    "    print(x)\n",
    "    \n",
    "# while loop\n",
    "i = 0\n",
    "while i < 5:\n",
    "    print(some_list[i])\n",
    "    i += 1\n"
   ]
  },
  {
   "cell_type": "markdown",
   "metadata": {},
   "source": [
    "The `range` function returns an iterator of evenly spaced integers."
   ]
  },
  {
   "cell_type": "code",
   "execution_count": 1,
   "metadata": {},
   "outputs": [
    {
     "data": {
      "text/plain": [
       "[0, 1, 2, 3, 4, 5]"
      ]
     },
     "execution_count": 1,
     "metadata": {},
     "output_type": "execute_result"
    }
   ],
   "source": [
    "# Returns a list [0, 1, 2, 3, 4, 5]\n",
    "\n",
    "list(range(6))"
   ]
  },
  {
   "cell_type": "code",
   "execution_count": null,
   "metadata": {},
   "outputs": [],
   "source": []
  },
  {
   "cell_type": "code",
   "execution_count": null,
   "metadata": {},
   "outputs": [],
   "source": []
  },
  {
   "cell_type": "code",
   "execution_count": null,
   "metadata": {},
   "outputs": [],
   "source": []
  },
  {
   "cell_type": "code",
   "execution_count": null,
   "metadata": {},
   "outputs": [],
   "source": []
  },
  {
   "cell_type": "code",
   "execution_count": null,
   "metadata": {},
   "outputs": [],
   "source": []
  },
  {
   "cell_type": "code",
   "execution_count": null,
   "metadata": {},
   "outputs": [],
   "source": []
  }
 ],
 "metadata": {
  "kernelspec": {
   "display_name": "Python 3",
   "language": "python",
   "name": "python3"
  },
  "language_info": {
   "codemirror_mode": {
    "name": "ipython",
    "version": 3
   },
   "file_extension": ".py",
   "mimetype": "text/x-python",
   "name": "python",
   "nbconvert_exporter": "python",
   "pygments_lexer": "ipython3",
   "version": "3.8.3"
  }
 },
 "nbformat": 4,
 "nbformat_minor": 4
}
