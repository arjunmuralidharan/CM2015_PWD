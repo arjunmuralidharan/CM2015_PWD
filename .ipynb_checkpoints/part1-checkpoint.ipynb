{
 "cells": [
  {
   "cell_type": "markdown",
   "metadata": {},
   "source": [
    "# Lab 1 Part 1: Getting started\n",
    "The purpose of this exercise is to familiarise yourself with the IPython/Jupyter notebook environment. Don't worry if you don't understand the code at this point in time, that's still to come! Just follow the tasks, and hopefully this will give you an idea of how the application works. It is also suggested that you check out the `[Notebook Basics](http://nbviewer.jupyter.org/github/jupyter/notebook/blob/master/docs/source/examples/Notebook/Notebook%20Basics.ipynb)' tutorial."
   ]
  },
  {
   "cell_type": "markdown",
   "metadata": {},
   "source": [
    "## Task 1: Run a code block\n",
    "A useful feature of Jupyter notebooks is the ability to execute blocks of code one at a time by creating discrete code \\`cells'. To run a code cell, highlight the cell by clicking in it, and press `<Ctrl>`+`<Enter>`. Do this for each of the code cells below."
   ]
  },
  {
   "cell_type": "code",
   "execution_count": null,
   "metadata": {},
   "outputs": [],
   "source": [
    "# Import the numpy and csv libraries\n",
    "import numpy as np\n",
    "import csv as csv"
   ]
  },
  {
   "cell_type": "code",
   "execution_count": null,
   "metadata": {},
   "outputs": [],
   "source": [
    "# Read in a csv file\n",
    "with open('filename.csv') as csvfile:\n",
    "    # The line above refers to a file in the same directory as this ipynb file\n",
    "    # You can look at the URL in your browser to see where this is located\n",
    "    # Also, remember that the path you run Jupyter from is the 'root' directory, ie where we start from!\n",
    "    reader = csv.DictReader(csvfile)\n",
    "    \n",
    "    # Output the fieldnames\n",
    "    print(reader.fieldnames)\n",
    "    \n",
    "    # Create list of dictionaries from data\n",
    "    data = []\n",
    "    for row in reader:\n",
    "        data.append(row)"
   ]
  },
  {
   "cell_type": "code",
   "execution_count": null,
   "metadata": {},
   "outputs": [],
   "source": [
    "# Output last 2 items in list\n",
    "print(data[:2])"
   ]
  },
  {
   "cell_type": "markdown",
   "metadata": {},
   "source": [
    "## Task 2: Insert a code cell!\n",
    "* Single click on this cell to select it (the surrounding box should be blue!)\n",
    "* From the menu at the top, select \\`Insert', followed by, \\`Insert Cell Below'. This will create a new cell. The box around the new cell should be green, meaning it is editable.\n",
    "* If your new cell appeared somewhere other than just below this one, you can use the up/down arrows in the top toolbar to reposition it.\n",
    "* You can change the type of cell from the Dropdown menu to the left of \\`Cell Toolbar'. For example, this cell is a *Markdown* cell. Leave the new cell as the default *Code* type cell for now.\n",
    "* Inside the cell, write some Python code to output a message. For example, \n",
    "\n",
    "        `print(\"Hello world!\")`\n",
    "* Run the code with `<Ctrl>+<Enter`.\n"
   ]
  },
  {
   "cell_type": "markdown",
   "metadata": {},
   "source": [
    "## Task 3: Include mathematical expressions\n",
    "\n",
    "At some point, you might find yourself wanting to write some explanatory text which includes mathematical equations. Fortunately, jupyter will render Latex for you inside Markdown cells.\n",
    "* Create a new cell below this one\n",
    "* With the cell selected, use the dropdown menu in the main toolbar to change its type to *Markdown*\n",
    "* Insert a Latex maths expression inside double `$$`. For example, \n",
    "    \n",
    "        $$c = \\sqrt{a^2 + b^2}$$\n",
    "* Render the Markdown with `<Ctrl>+<Enter`\n",
    "* If you need to edit the Markdown cell again, double click in it\n",
    "\n",
    "*NB: If you haven't used Latex before or don't know what it is, don't worry - this is just to show you what is possible.*"
   ]
  },
  {
   "cell_type": "markdown",
   "metadata": {},
   "source": [
    "## Task 4: Plot some data\n",
    "A feature that makes Jupyter Notebooks particularly appealing to scientists, is the ability to plot data in a Matlab like environment. Run the following code cell to plot a simple line graph."
   ]
  },
  {
   "cell_type": "code",
   "execution_count": null,
   "metadata": {
    "scrolled": true
   },
   "outputs": [],
   "source": [
    "import numpy as np  # import numpy library under alias np\n",
    "import matplotlib   \n",
    "import matplotlib.pyplot as plt # import pyplot library under alias plt\n",
    "\n",
    "# This is actually not Python, but a \"cell magic\" to tell Jupyter how to display plots\n",
    "%matplotlib inline\n",
    "\n",
    "x = np.linspace(0, 20, 1000)     # 100 evenly-spaced values from 0 to 50\n",
    "y = np.sin(x)\n",
    "\n",
    "plt.plot(x, y)\n",
    "plt.show()"
   ]
  },
  {
   "cell_type": "markdown",
   "metadata": {},
   "source": [
    "## The End!\n"
   ]
  }
 ],
 "metadata": {
  "kernelspec": {
   "display_name": "Python 3",
   "language": "python",
   "name": "python3"
  },
  "language_info": {
   "codemirror_mode": {
    "name": "ipython",
    "version": 3
   },
   "file_extension": ".py",
   "mimetype": "text/x-python",
   "name": "python",
   "nbconvert_exporter": "python",
   "pygments_lexer": "ipython3",
   "version": "3.8.2"
  }
 },
 "nbformat": 4,
 "nbformat_minor": 1
}
